{
 "cells": [
  {
   "cell_type": "markdown",
   "metadata": {},
   "source": [
    "MindsDB is one of the examples of those Machine Learning libraries that are making machine learning easy. By using the MindsDB library we can create a Machine Learning model in under 5 lines of code. "
   ]
  },
  {
   "cell_type": "markdown",
   "metadata": {},
   "source": [
    "MindsDB is an example of Automated Machine Learning or AutoML which helps in to gain some powerful insights from the data. By using this Auto ML library we can easily draw patterns from the data in just 5 lines of code."
   ]
  },
  {
   "cell_type": "code",
   "execution_count": 10,
   "metadata": {},
   "outputs": [],
   "source": [
    "# !pip install mindsdb --user"
   ]
  },
  {
   "cell_type": "code",
   "execution_count": 12,
   "metadata": {},
   "outputs": [],
   "source": [
    "# !pip install mindsdb==2.58.3 --user\n",
    "# !pip install MindsDB==1.1.0 --user"
   ]
  },
  {
   "cell_type": "markdown",
   "metadata": {},
   "source": [
    "[official documentation](https://docs.mindsdb.com/)"
   ]
  },
  {
   "cell_type": "markdown",
   "metadata": {},
   "source": [
    "The data set we are using is about rental home prices and we will use the MindsDB framework to create a Machine Learning model to predict house prices in 5 lines of code.\n",
    "\n",
    "The dataset contains data about the number of rooms, bathrooms, size in square feet, location, market days, neighbourhood, and the price of the rent. "
   ]
  },
  {
   "cell_type": "code",
   "execution_count": 10,
   "metadata": {},
   "outputs": [],
   "source": [
    "import mindsdb"
   ]
  },
  {
   "cell_type": "code",
   "execution_count": 11,
   "metadata": {},
   "outputs": [
    {
     "data": {
      "text/plain": [
       "'2.58.3'"
      ]
     },
     "execution_count": 11,
     "metadata": {},
     "output_type": "execute_result"
    }
   ],
   "source": [
    "mindsdb.__version__"
   ]
  },
  {
   "cell_type": "code",
   "execution_count": 4,
   "metadata": {},
   "outputs": [
    {
     "data": {
      "text/plain": [
       "['Config',\n",
       " '__about__',\n",
       " '__builtins__',\n",
       " '__cached__',\n",
       " '__doc__',\n",
       " '__file__',\n",
       " '__loader__',\n",
       " '__name__',\n",
       " '__package__',\n",
       " '__path__',\n",
       " '__spec__',\n",
       " '__version__',\n",
       " 'args',\n",
       " 'args_parse',\n",
       " 'config_path',\n",
       " 'create_dirs_recursive',\n",
       " 'disable_telemetry',\n",
       " 'get_or_create_data_dir',\n",
       " 'is_notebook',\n",
       " 'is_ray_worker',\n",
       " 'json',\n",
       " 'mindsdb_config',\n",
       " 'mindsdb_version',\n",
       " 'os',\n",
       " 'root_storage_dir',\n",
       " 'sys',\n",
       " 'telemetry_file_exists',\n",
       " 'user_config',\n",
       " 'utilities']"
      ]
     },
     "execution_count": 4,
     "metadata": {},
     "output_type": "execute_result"
    }
   ],
   "source": [
    "dir(mindsdb)"
   ]
  },
  {
   "cell_type": "code",
   "execution_count": 5,
   "metadata": {},
   "outputs": [
    {
     "ename": "AttributeError",
     "evalue": "module 'mindsdb' has no attribute 'Predictor'",
     "output_type": "error",
     "traceback": [
      "\u001b[1;31m---------------------------------------------------------------------------\u001b[0m",
      "\u001b[1;31mAttributeError\u001b[0m                            Traceback (most recent call last)",
      "\u001b[1;32m<ipython-input-5-25416edc693d>\u001b[0m in \u001b[0;36m<module>\u001b[1;34m\u001b[0m\n\u001b[1;32m----> 1\u001b[1;33m \u001b[0mpredictor\u001b[0m \u001b[1;33m=\u001b[0m \u001b[0mmindsdb\u001b[0m\u001b[1;33m.\u001b[0m\u001b[0mPredictor\u001b[0m\u001b[1;33m(\u001b[0m\u001b[0mname\u001b[0m\u001b[1;33m=\u001b[0m\u001b[1;34m'home_rental_predictor'\u001b[0m\u001b[1;33m)\u001b[0m\u001b[1;33m\u001b[0m\u001b[1;33m\u001b[0m\u001b[0m\n\u001b[0m",
      "\u001b[1;31mAttributeError\u001b[0m: module 'mindsdb' has no attribute 'Predictor'"
     ]
    }
   ],
   "source": [
    "predictor = mindsdb.Predictor(name='home_rental_predictor')"
   ]
  },
  {
   "cell_type": "markdown",
   "metadata": {},
   "source": [
    "So we have just done the initialization of the task, now we need to train our machine learning model, which surprisingly takes a one-line command:"
   ]
  },
  {
   "cell_type": "code",
   "execution_count": null,
   "metadata": {},
   "outputs": [],
   "source": [
    "predictor.learn(from_data='home_rentals.csv', to_predict='rental_price')"
   ]
  },
  {
   "cell_type": "markdown",
   "metadata": {},
   "source": [
    "That’s it, we just created the model. The best part of the MindsDB library is that it automatically performs all the preprocessing own its own. Now we need to use the trained model to make predictions, let’s see how to do that:"
   ]
  },
  {
   "cell_type": "code",
   "execution_count": null,
   "metadata": {},
   "outputs": [],
   "source": [
    "result = mdb_predict.predict(when={'number_of_rooms': 2,'number_of_bathrooms':1, 'sqft': 1190})\n",
    "\n",
    "# Print the results\n",
    "print('The predicted price is ${price} with {conf} confidence'.format(price=result[0]['rental_price'], conf=result[0]['rental_price_confidence']))\n"
   ]
  },
  {
   "cell_type": "markdown",
   "metadata": {},
   "source": [
    "So this is how we can create a Machine Learning model in just 5 lines of code by using the MindsDB library. The best thing about MindsDB is that it is not only for the numerical data, it can also be used for images."
   ]
  },
  {
   "cell_type": "code",
   "execution_count": null,
   "metadata": {},
   "outputs": [],
   "source": []
  }
 ],
 "metadata": {
  "kernelspec": {
   "display_name": "Python 3",
   "language": "python",
   "name": "python3"
  },
  "language_info": {
   "codemirror_mode": {
    "name": "ipython",
    "version": 3
   },
   "file_extension": ".py",
   "mimetype": "text/x-python",
   "name": "python",
   "nbconvert_exporter": "python",
   "pygments_lexer": "ipython3",
   "version": "3.7.6"
  }
 },
 "nbformat": 4,
 "nbformat_minor": 4
}
