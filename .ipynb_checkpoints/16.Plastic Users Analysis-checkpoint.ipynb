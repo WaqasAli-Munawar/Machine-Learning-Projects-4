{
 "cells": [
  {
   "cell_type": "markdown",
   "metadata": {},
   "source": [
    "Worldwide users of plastic are leaving a negative impact on the oceans and wildlife all around the world."
   ]
  },
  {
   "cell_type": "code",
   "execution_count": 1,
   "metadata": {},
   "outputs": [],
   "source": [
    "import numpy as np # linear algebra\n",
    "import pandas as pd # data processing\n",
    "import matplotlib.pyplot as plt"
   ]
  },
  {
   "cell_type": "markdown",
   "metadata": {},
   "source": [
    "We will analyse the plastics users based on how much a country uses plastic for the packaging of its food products."
   ]
  },
  {
   "cell_type": "code",
   "execution_count": 5,
   "metadata": {},
   "outputs": [],
   "source": [
    "# data=pd.read_csv(\"FoodFacts.csv\",low_memory=False)\n",
    "data = pd.read_csv('en.openfoodfacts.org.products.tsv', sep='\\t', low_memory=False)"
   ]
  },
  {
   "cell_type": "code",
   "execution_count": 6,
   "metadata": {},
   "outputs": [],
   "source": [
    "#Searching for manufacturers which use plastic stuffs for packing food\n",
    "df=data[['manufacturing_places','packaging_tags']][(data['packaging_tags']=='plastique')|(data['packaging_tags']=='plastic')]"
   ]
  },
  {
   "cell_type": "code",
   "execution_count": 7,
   "metadata": {},
   "outputs": [
    {
     "data": {
      "text/html": [
       "<div>\n",
       "<style scoped>\n",
       "    .dataframe tbody tr th:only-of-type {\n",
       "        vertical-align: middle;\n",
       "    }\n",
       "\n",
       "    .dataframe tbody tr th {\n",
       "        vertical-align: top;\n",
       "    }\n",
       "\n",
       "    .dataframe thead th {\n",
       "        text-align: right;\n",
       "    }\n",
       "</style>\n",
       "<table border=\"1\" class=\"dataframe\">\n",
       "  <thead>\n",
       "    <tr style=\"text-align: right;\">\n",
       "      <th></th>\n",
       "      <th>manufacturing_places</th>\n",
       "      <th>packaging_tags</th>\n",
       "    </tr>\n",
       "  </thead>\n",
       "  <tbody>\n",
       "    <tr>\n",
       "      <th>197</th>\n",
       "      <td>Thailand</td>\n",
       "      <td>plastic</td>\n",
       "    </tr>\n",
       "    <tr>\n",
       "      <th>470</th>\n",
       "      <td>Royaume Uni</td>\n",
       "      <td>plastique</td>\n",
       "    </tr>\n",
       "    <tr>\n",
       "      <th>696</th>\n",
       "      <td>Royaume-Uni</td>\n",
       "      <td>plastique</td>\n",
       "    </tr>\n",
       "    <tr>\n",
       "      <th>1392</th>\n",
       "      <td>Canada</td>\n",
       "      <td>plastic</td>\n",
       "    </tr>\n",
       "    <tr>\n",
       "      <th>12997</th>\n",
       "      <td>china</td>\n",
       "      <td>plastic</td>\n",
       "    </tr>\n",
       "    <tr>\n",
       "      <th>13461</th>\n",
       "      <td>United Kingdom</td>\n",
       "      <td>plastic</td>\n",
       "    </tr>\n",
       "    <tr>\n",
       "      <th>16019</th>\n",
       "      <td>United Kingdom</td>\n",
       "      <td>plastic</td>\n",
       "    </tr>\n",
       "    <tr>\n",
       "      <th>17574</th>\n",
       "      <td>USA</td>\n",
       "      <td>plastic</td>\n",
       "    </tr>\n",
       "    <tr>\n",
       "      <th>21764</th>\n",
       "      <td>Crèmerie Soignon,Poitou-Charente,France</td>\n",
       "      <td>plastic</td>\n",
       "    </tr>\n",
       "    <tr>\n",
       "      <th>22688</th>\n",
       "      <td>Royaume-Uni</td>\n",
       "      <td>plastique</td>\n",
       "    </tr>\n",
       "    <tr>\n",
       "      <th>23901</th>\n",
       "      <td>USA</td>\n",
       "      <td>plastic</td>\n",
       "    </tr>\n",
       "    <tr>\n",
       "      <th>23902</th>\n",
       "      <td>Plano,Texas,USA</td>\n",
       "      <td>plastic</td>\n",
       "    </tr>\n",
       "    <tr>\n",
       "      <th>29362</th>\n",
       "      <td>United States</td>\n",
       "      <td>plastic</td>\n",
       "    </tr>\n",
       "    <tr>\n",
       "      <th>29376</th>\n",
       "      <td>United States if America</td>\n",
       "      <td>plastique</td>\n",
       "    </tr>\n",
       "    <tr>\n",
       "      <th>29378</th>\n",
       "      <td>États-Unis</td>\n",
       "      <td>plastique</td>\n",
       "    </tr>\n",
       "    <tr>\n",
       "      <th>30119</th>\n",
       "      <td>United States</td>\n",
       "      <td>plastic</td>\n",
       "    </tr>\n",
       "    <tr>\n",
       "      <th>31135</th>\n",
       "      <td>United States</td>\n",
       "      <td>plastic</td>\n",
       "    </tr>\n",
       "    <tr>\n",
       "      <th>57107</th>\n",
       "      <td>Mexico</td>\n",
       "      <td>plastic</td>\n",
       "    </tr>\n",
       "    <tr>\n",
       "      <th>57956</th>\n",
       "      <td>Ravens Oak Dairy,Nantwich,Cheshire,England,Uni...</td>\n",
       "      <td>plastic</td>\n",
       "    </tr>\n",
       "    <tr>\n",
       "      <th>58052</th>\n",
       "      <td>Thailand</td>\n",
       "      <td>plastic</td>\n",
       "    </tr>\n",
       "  </tbody>\n",
       "</table>\n",
       "</div>"
      ],
      "text/plain": [
       "                                    manufacturing_places packaging_tags\n",
       "197                                             Thailand        plastic\n",
       "470                                          Royaume Uni      plastique\n",
       "696                                          Royaume-Uni      plastique\n",
       "1392                                              Canada        plastic\n",
       "12997                                              china        plastic\n",
       "13461                                     United Kingdom        plastic\n",
       "16019                                     United Kingdom        plastic\n",
       "17574                                                USA        plastic\n",
       "21764            Crèmerie Soignon,Poitou-Charente,France        plastic\n",
       "22688                                        Royaume-Uni      plastique\n",
       "23901                                                USA        plastic\n",
       "23902                                    Plano,Texas,USA        plastic\n",
       "29362                                      United States        plastic\n",
       "29376                           United States if America      plastique\n",
       "29378                                         États-Unis      plastique\n",
       "30119                                      United States        plastic\n",
       "31135                                      United States        plastic\n",
       "57107                                             Mexico        plastic\n",
       "57956  Ravens Oak Dairy,Nantwich,Cheshire,England,Uni...        plastic\n",
       "58052                                           Thailand        plastic"
      ]
     },
     "execution_count": 7,
     "metadata": {},
     "output_type": "execute_result"
    }
   ],
   "source": [
    "df=df.dropna()\n",
    "df.head(20)"
   ]
  },
  {
   "cell_type": "markdown",
   "metadata": {},
   "source": [
    "Hopefully, this dataset does not contain any missing values. So we can move further to analyze the plastic users without any data preparation and cleaning. Now to analyze the worldwide plastics users let’s sort the countries according to their usage of plastic to pack food products:"
   ]
  },
  {
   "cell_type": "code",
   "execution_count": 8,
   "metadata": {},
   "outputs": [
    {
     "data": {
      "text/plain": [
       "France            296\n",
       "Australia         206\n",
       "MADAGASCAR         52\n",
       "Belgique           48\n",
       "Italie             47\n",
       "Suisse             39\n",
       "Serbia             38\n",
       "Allemagne          28\n",
       "Espagne            25\n",
       "United Kingdom     23\n",
       "Name: manufacturing_places, dtype: int64"
      ]
     },
     "execution_count": 8,
     "metadata": {},
     "output_type": "execute_result"
    }
   ],
   "source": [
    "#Calculating which country uses what extent of platic stuffs\n",
    "data=df['manufacturing_places'].value_counts(sort=True,dropna=False)\n",
    "data.head(10)"
   ]
  },
  {
   "cell_type": "code",
   "execution_count": 9,
   "metadata": {},
   "outputs": [],
   "source": [
    "#Defining a new column stating the extent of usage of plastic as 1\n",
    "df['value']=1"
   ]
  },
  {
   "cell_type": "code",
   "execution_count": 10,
   "metadata": {},
   "outputs": [],
   "source": [
    "def plast(country):\n",
    "    return df[df.manufacturing_places == country].value.sum()"
   ]
  },
  {
   "cell_type": "code",
   "execution_count": 11,
   "metadata": {},
   "outputs": [],
   "source": [
    "#Plastic Extent for some of the highest users\n",
    "fr_plast=plast('France')\n",
    "ge_plast=plast('Germany')\n",
    "au_plast=plast('Australia')\n",
    "us_plast=plast('United States')\n",
    "iy_plast=plast('Italy')\n",
    "al_plast=plast('Allemagne')\n",
    "ch_plast=plast('China')\n",
    "uk_plast=plast('United Kingdom')"
   ]
  },
  {
   "cell_type": "code",
   "execution_count": 12,
   "metadata": {},
   "outputs": [],
   "source": [
    "countries=['FR','GE','AU','US','IY','AL','CH','UK']\n",
    "plastic=[fr_plast,ge_plast,au_plast,us_plast,iy_plast,al_plast,ch_plast,uk_plast]\n",
    "ypos=np.arange(len(countries))"
   ]
  },
  {
   "cell_type": "code",
   "execution_count": 13,
   "metadata": {},
   "outputs": [
    {
     "data": {
      "image/png": "[encoded data removed]",
      "text/plain": [
       "<Figure size 432x288 with 1 Axes>"
      ]
     },
     "metadata": {
      "needs_background": "light"
     },
     "output_type": "display_data"
    }
   ],
   "source": [
    "plt.bar(ypos,plastic,align='center',alpha=0.5,facecolor='r')\n",
    "plt.xticks(ypos, countries)\n",
    "plt.annotate('Biggest user',xy=(3,146),xytext=(5,120),arrowprops=dict(facecolor='blue'))\n",
    "plt.show()"
   ]
  },
  {
   "cell_type": "markdown",
   "metadata": {},
   "source": [
    "So this is how to analyze such data with a text annotation "
   ]
  },
  {
   "cell_type": "code",
   "execution_count": null,
   "metadata": {},
   "outputs": [],
   "source": []
  }
 ],
 "metadata": {
  "kernelspec": {
   "display_name": "Python 3",
   "language": "python",
   "name": "python3"
  },
  "language_info": {
   "codemirror_mode": {
    "name": "ipython",
    "version": 3
   },
   "file_extension": ".py",
   "mimetype": "text/x-python",
   "name": "python",
   "nbconvert_exporter": "python",
   "pygments_lexer": "ipython3",
   "version": "3.7.6"
  }
 },
 "nbformat": 4,
 "nbformat_minor": 4
}
