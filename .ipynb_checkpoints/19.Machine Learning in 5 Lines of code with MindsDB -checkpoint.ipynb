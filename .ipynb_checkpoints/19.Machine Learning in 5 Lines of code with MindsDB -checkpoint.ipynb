{
 "cells": [
  {
   "cell_type": "markdown",
   "metadata": {},
   "source": [
    "MindsDB is one of the examples of those Machine Learning libraries that are making machine learning easy. By using the MindsDB library we can create a Machine Learning model in under 5 lines of code.\n",
    "\n",
    "MindsDB is an example of Automated Machine Learning or AutoML which helps in to gain some powerful insights from the data. By using this Auto ML library we can easily draw patterns from the data in just 5 lines of code."
   ]
  },
  {
   "cell_type": "markdown",
   "metadata": {},
   "source": [
    "The data set we are using is about rental home prices and we will use the MindsDB framework to create a Machine Learning model to predict house prices in 5 lines of code.\n",
    "\n",
    "The dataset contains data about the number of rooms, bathrooms, size in square feet, location, market days, neighbourhood, and the price of the rent."
   ]
  },
  {
   "cell_type": "code",
   "execution_count": 2,
   "metadata": {
    "colab": {
     "base_uri": "https://localhost:8080/"
    },
    "id": "GY27-o68JpWt",
    "outputId": "a0f7c65a-2020-4c86-8442-2fc40aeeaa80"
   },
   "outputs": [
    {
     "name": "stdout",
     "output_type": "stream",
     "text": [
      "Collecting mindsdb==1.3.2\n",
      "  Downloading MindsDB-1.3.2.tar.gz (54 kB)\n",
      "\u001b[K     |████████████████████████████████| 54 kB 1.9 MB/s \n",
      "\u001b[?25hCollecting scikit-image==0.14.2\n",
      "  Downloading scikit_image-0.14.2-cp37-cp37m-manylinux1_x86_64.whl (25.3 MB)\n",
      "\u001b[K     |████████████████████████████████| 25.3 MB 53.1 MB/s \n",
      "\u001b[?25hRequirement already satisfied: cython>=0.29.2 in /usr/local/lib/python3.7/dist-packages (from mindsdb==1.3.2) (0.29.24)\n",
      "Requirement already satisfied: setuptools>=21.2.1 in /usr/local/lib/python3.7/dist-packages (from mindsdb==1.3.2) (57.4.0)\n",
      "Requirement already satisfied: wheel>=0.32.2 in /usr/local/lib/python3.7/dist-packages (from mindsdb==1.3.2) (0.37.0)\n",
      "Requirement already satisfied: attrs>=18.2.0 in /usr/local/lib/python3.7/dist-packages (from mindsdb==1.3.2) (21.2.0)\n",
      "Requirement already satisfied: numpy>=1.15.2 in /usr/local/lib/python3.7/dist-packages (from mindsdb==1.3.2) (1.19.5)\n",
      "Requirement already satisfied: pandas>=0.23.4 in /usr/local/lib/python3.7/dist-packages (from mindsdb==1.3.2) (1.1.5)\n",
      "Requirement already satisfied: python-dateutil>=2.7.3 in /usr/local/lib/python3.7/dist-packages (from mindsdb==1.3.2) (2.8.2)\n",
      "Requirement already satisfied: pytz>=2018.5 in /usr/local/lib/python3.7/dist-packages (from mindsdb==1.3.2) (2018.9)\n",
      "Requirement already satisfied: requests>=2.20.0 in /usr/local/lib/python3.7/dist-packages (from mindsdb==1.3.2) (2.23.0)\n",
      "Requirement already satisfied: scipy>=1.1.0 in /usr/local/lib/python3.7/dist-packages (from mindsdb==1.3.2) (1.4.1)\n",
      "Requirement already satisfied: scikit-learn>=0.20.3 in /usr/local/lib/python3.7/dist-packages (from mindsdb==1.3.2) (1.0.1)\n",
      "Collecting colorlog>=4.0.2\n",
      "  Downloading colorlog-6.6.0-py2.py3-none-any.whl (11 kB)\n",
      "Collecting tensorflow==1.13.1\n",
      "  Downloading tensorflow-1.13.1-cp37-cp37m-manylinux1_x86_64.whl (92.6 MB)\n",
      "\u001b[K     |████████████████████████████████| 92.6 MB 1.3 MB/s \n",
      "\u001b[?25hCollecting ludwig==0.1.2\n",
      "  Downloading ludwig-0.1.2.tar.gz (134 kB)\n",
      "\u001b[K     |████████████████████████████████| 134 kB 43.6 MB/s \n",
      "\u001b[?25hRequirement already satisfied: xlrd>=1.0.0 in /usr/local/lib/python3.7/dist-packages (from mindsdb==1.3.2) (1.1.0)\n",
      "Collecting ImageHash==4.0\n",
      "  Downloading ImageHash-4.0-py2.py3-none-any.whl (295 kB)\n",
      "\u001b[K     |████████████████████████████████| 295 kB 39.6 MB/s \n",
      "\u001b[?25hCollecting imageio==2.5.0\n",
      "  Downloading imageio-2.5.0-py3-none-any.whl (3.3 MB)\n",
      "\u001b[K     |████████████████████████████████| 3.3 MB 46.8 MB/s \n",
      "\u001b[?25hCollecting lightwood==0.7.7\n",
      "  Downloading lightwood-0.7.7.tar.gz (36 kB)\n",
      "Requirement already satisfied: pywavelets in /usr/local/lib/python3.7/dist-packages (from ImageHash==4.0->mindsdb==1.3.2) (1.2.0)\n",
      "Requirement already satisfied: six in /usr/local/lib/python3.7/dist-packages (from ImageHash==4.0->mindsdb==1.3.2) (1.15.0)\n",
      "Requirement already satisfied: pillow in /usr/local/lib/python3.7/dist-packages (from ImageHash==4.0->mindsdb==1.3.2) (7.1.2)\n",
      "Requirement already satisfied: NLTK>=3 in /usr/local/lib/python3.7/dist-packages (from lightwood==0.7.7->mindsdb==1.3.2) (3.2.5)\n",
      "Collecting cesium>=0.9.9\n",
      "  Downloading cesium-0.9.12-cp37-cp37m-manylinux1_x86_64.whl (220 kB)\n",
      "\u001b[K     |████████████████████████████████| 220 kB 45.1 MB/s \n",
      "\u001b[?25hRequirement already satisfied: dill>=0.2.9 in /usr/local/lib/python3.7/dist-packages (from lightwood==0.7.7->mindsdb==1.3.2) (0.3.4)\n",
      "Collecting schema>=0.6.8\n",
      "  Downloading schema-0.7.4-py2.py3-none-any.whl (16 kB)\n",
      "Collecting torch==1.1.0\n",
      "  Downloading torch-1.1.0-cp37-cp37m-manylinux1_x86_64.whl (676.9 MB)\n",
      "\u001b[K     |████████████████████████████████| 676.9 MB 3.8 kB/s \n",
      "\u001b[?25hRequirement already satisfied: torchvision>=0.3 in /usr/local/lib/python3.7/dist-packages (from lightwood==0.7.7->mindsdb==1.3.2) (0.11.1+cu111)\n",
      "Requirement already satisfied: h5py>=2.6 in /usr/local/lib/python3.7/dist-packages (from ludwig==0.1.2->mindsdb==1.3.2) (3.1.0)\n",
      "Requirement already satisfied: matplotlib>=3.0 in /usr/local/lib/python3.7/dist-packages (from ludwig==0.1.2->mindsdb==1.3.2) (3.2.2)\n",
      "Requirement already satisfied: seaborn>=0.7 in /usr/local/lib/python3.7/dist-packages (from ludwig==0.1.2->mindsdb==1.3.2) (0.11.2)\n",
      "Requirement already satisfied: spacy>=2.1 in /usr/local/lib/python3.7/dist-packages (from ludwig==0.1.2->mindsdb==1.3.2) (2.2.4)\n",
      "Requirement already satisfied: tqdm in /usr/local/lib/python3.7/dist-packages (from ludwig==0.1.2->mindsdb==1.3.2) (4.62.3)\n",
      "Requirement already satisfied: tabulate>=0.7 in /usr/local/lib/python3.7/dist-packages (from ludwig==0.1.2->mindsdb==1.3.2) (0.8.9)\n",
      "Requirement already satisfied: PyYAML>=3.12 in /usr/local/lib/python3.7/dist-packages (from ludwig==0.1.2->mindsdb==1.3.2) (3.13)\n",
      "Requirement already satisfied: networkx>=1.8 in /usr/local/lib/python3.7/dist-packages (from scikit-image==0.14.2->mindsdb==1.3.2) (2.6.3)\n",
      "Requirement already satisfied: dask[array]>=1.0.0 in /usr/local/lib/python3.7/dist-packages (from scikit-image==0.14.2->mindsdb==1.3.2) (2.12.0)\n",
      "Requirement already satisfied: cloudpickle>=0.2.1 in /usr/local/lib/python3.7/dist-packages (from scikit-image==0.14.2->mindsdb==1.3.2) (1.3.0)\n",
      "Requirement already satisfied: termcolor>=1.1.0 in /usr/local/lib/python3.7/dist-packages (from tensorflow==1.13.1->mindsdb==1.3.2) (1.1.0)\n",
      "Collecting keras-applications>=1.0.6\n",
      "  Downloading Keras_Applications-1.0.8-py3-none-any.whl (50 kB)\n",
      "\u001b[K     |████████████████████████████████| 50 kB 6.3 MB/s \n",
      "\u001b[?25hCollecting tensorflow-estimator<1.14.0rc0,>=1.13.0\n",
      "  Downloading tensorflow_estimator-1.13.0-py2.py3-none-any.whl (367 kB)\n",
      "\u001b[K     |████████████████████████████████| 367 kB 48.2 MB/s \n",
      "\u001b[?25hRequirement already satisfied: astor>=0.6.0 in /usr/local/lib/python3.7/dist-packages (from tensorflow==1.13.1->mindsdb==1.3.2) (0.8.1)\n",
      "Requirement already satisfied: absl-py>=0.1.6 in /usr/local/lib/python3.7/dist-packages (from tensorflow==1.13.1->mindsdb==1.3.2) (0.12.0)\n",
      "Requirement already satisfied: keras-preprocessing>=1.0.5 in /usr/local/lib/python3.7/dist-packages (from tensorflow==1.13.1->mindsdb==1.3.2) (1.1.2)\n",
      "Requirement already satisfied: protobuf>=3.6.1 in /usr/local/lib/python3.7/dist-packages (from tensorflow==1.13.1->mindsdb==1.3.2) (3.17.3)\n",
      "Requirement already satisfied: gast>=0.2.0 in /usr/local/lib/python3.7/dist-packages (from tensorflow==1.13.1->mindsdb==1.3.2) (0.4.0)\n",
      "Requirement already satisfied: grpcio>=1.8.6 in /usr/local/lib/python3.7/dist-packages (from tensorflow==1.13.1->mindsdb==1.3.2) (1.42.0)\n",
      "Collecting tensorboard<1.14.0,>=1.13.0\n",
      "  Downloading tensorboard-1.13.1-py3-none-any.whl (3.2 MB)\n",
      "\u001b[K     |████████████████████████████████| 3.2 MB 27.3 MB/s \n",
      "\u001b[?25hRequirement already satisfied: joblib>=0.14.1 in /usr/local/lib/python3.7/dist-packages (from cesium>=0.9.9->lightwood==0.7.7->mindsdb==1.3.2) (1.1.0)\n",
      "Requirement already satisfied: toolz in /usr/local/lib/python3.7/dist-packages (from cesium>=0.9.9->lightwood==0.7.7->mindsdb==1.3.2) (0.11.2)\n",
      "Collecting gatspy>=0.3.0\n",
      "  Downloading gatspy-0.3.tar.gz (554 kB)\n",
      "\u001b[K     |████████████████████████████████| 554 kB 46.0 MB/s \n",
      "\u001b[?25hRequirement already satisfied: cached-property in /usr/local/lib/python3.7/dist-packages (from h5py>=2.6->ludwig==0.1.2->mindsdb==1.3.2) (1.5.2)\n",
      "Requirement already satisfied: kiwisolver>=1.0.1 in /usr/local/lib/python3.7/dist-packages (from matplotlib>=3.0->ludwig==0.1.2->mindsdb==1.3.2) (1.3.2)\n",
      "Requirement already satisfied: pyparsing!=2.0.4,!=2.1.2,!=2.1.6,>=2.0.1 in /usr/local/lib/python3.7/dist-packages (from matplotlib>=3.0->ludwig==0.1.2->mindsdb==1.3.2) (3.0.6)\n",
      "Requirement already satisfied: cycler>=0.10 in /usr/local/lib/python3.7/dist-packages (from matplotlib>=3.0->ludwig==0.1.2->mindsdb==1.3.2) (0.11.0)\n",
      "Requirement already satisfied: certifi>=2017.4.17 in /usr/local/lib/python3.7/dist-packages (from requests>=2.20.0->mindsdb==1.3.2) (2021.10.8)\n",
      "Requirement already satisfied: urllib3!=1.25.0,!=1.25.1,<1.26,>=1.21.1 in /usr/local/lib/python3.7/dist-packages (from requests>=2.20.0->mindsdb==1.3.2) (1.24.3)\n",
      "Requirement already satisfied: idna<3,>=2.5 in /usr/local/lib/python3.7/dist-packages (from requests>=2.20.0->mindsdb==1.3.2) (2.10)\n",
      "Requirement already satisfied: chardet<4,>=3.0.2 in /usr/local/lib/python3.7/dist-packages (from requests>=2.20.0->mindsdb==1.3.2) (3.0.4)\n",
      "Requirement already satisfied: contextlib2>=0.5.5 in /usr/local/lib/python3.7/dist-packages (from schema>=0.6.8->lightwood==0.7.7->mindsdb==1.3.2) (0.5.5)\n",
      "Requirement already satisfied: threadpoolctl>=2.0.0 in /usr/local/lib/python3.7/dist-packages (from scikit-learn>=0.20.3->mindsdb==1.3.2) (3.0.0)\n",
      "Requirement already satisfied: wasabi<1.1.0,>=0.4.0 in /usr/local/lib/python3.7/dist-packages (from spacy>=2.1->ludwig==0.1.2->mindsdb==1.3.2) (0.8.2)\n",
      "Requirement already satisfied: murmurhash<1.1.0,>=0.28.0 in /usr/local/lib/python3.7/dist-packages (from spacy>=2.1->ludwig==0.1.2->mindsdb==1.3.2) (1.0.6)\n",
      "Requirement already satisfied: plac<1.2.0,>=0.9.6 in /usr/local/lib/python3.7/dist-packages (from spacy>=2.1->ludwig==0.1.2->mindsdb==1.3.2) (1.1.3)\n",
      "Requirement already satisfied: preshed<3.1.0,>=3.0.2 in /usr/local/lib/python3.7/dist-packages (from spacy>=2.1->ludwig==0.1.2->mindsdb==1.3.2) (3.0.6)\n",
      "Requirement already satisfied: catalogue<1.1.0,>=0.0.7 in /usr/local/lib/python3.7/dist-packages (from spacy>=2.1->ludwig==0.1.2->mindsdb==1.3.2) (1.0.0)\n",
      "Requirement already satisfied: cymem<2.1.0,>=2.0.2 in /usr/local/lib/python3.7/dist-packages (from spacy>=2.1->ludwig==0.1.2->mindsdb==1.3.2) (2.0.6)\n",
      "Requirement already satisfied: blis<0.5.0,>=0.4.0 in /usr/local/lib/python3.7/dist-packages (from spacy>=2.1->ludwig==0.1.2->mindsdb==1.3.2) (0.4.1)\n",
      "Requirement already satisfied: srsly<1.1.0,>=1.0.2 in /usr/local/lib/python3.7/dist-packages (from spacy>=2.1->ludwig==0.1.2->mindsdb==1.3.2) (1.0.5)\n",
      "Requirement already satisfied: thinc==7.4.0 in /usr/local/lib/python3.7/dist-packages (from spacy>=2.1->ludwig==0.1.2->mindsdb==1.3.2) (7.4.0)\n",
      "Requirement already satisfied: importlib-metadata>=0.20 in /usr/local/lib/python3.7/dist-packages (from catalogue<1.1.0,>=0.0.7->spacy>=2.1->ludwig==0.1.2->mindsdb==1.3.2) (4.8.2)\n",
      "Requirement already satisfied: zipp>=0.5 in /usr/local/lib/python3.7/dist-packages (from importlib-metadata>=0.20->catalogue<1.1.0,>=0.0.7->spacy>=2.1->ludwig==0.1.2->mindsdb==1.3.2) (3.6.0)\n",
      "Requirement already satisfied: typing-extensions>=3.6.4 in /usr/local/lib/python3.7/dist-packages (from importlib-metadata>=0.20->catalogue<1.1.0,>=0.0.7->spacy>=2.1->ludwig==0.1.2->mindsdb==1.3.2) (3.10.0.2)\n",
      "Requirement already satisfied: markdown>=2.6.8 in /usr/local/lib/python3.7/dist-packages (from tensorboard<1.14.0,>=1.13.0->tensorflow==1.13.1->mindsdb==1.3.2) (3.3.6)\n",
      "Requirement already satisfied: werkzeug>=0.11.15 in /usr/local/lib/python3.7/dist-packages (from tensorboard<1.14.0,>=1.13.0->tensorflow==1.13.1->mindsdb==1.3.2) (1.0.1)\n",
      "Collecting mock>=2.0.0\n",
      "  Downloading mock-4.0.3-py3-none-any.whl (28 kB)\n",
      "Collecting torchvision>=0.3\n",
      "  Downloading torchvision-0.11.1-cp37-cp37m-manylinux1_x86_64.whl (23.3 MB)\n",
      "\u001b[K     |████████████████████████████████| 23.3 MB 45.7 MB/s \n",
      "\u001b[?25h  Downloading torchvision-0.10.1-cp37-cp37m-manylinux1_x86_64.whl (22.1 MB)\n",
      "\u001b[K     |████████████████████████████████| 22.1 MB 1.6 MB/s \n",
      "\u001b[?25h  Downloading torchvision-0.10.0-cp37-cp37m-manylinux1_x86_64.whl (22.1 MB)\n",
      "\u001b[K     |████████████████████████████████| 22.1 MB 1.6 MB/s \n",
      "\u001b[?25h  Downloading torchvision-0.9.1-cp37-cp37m-manylinux1_x86_64.whl (17.4 MB)\n",
      "\u001b[K     |████████████████████████████████| 17.4 MB 391 kB/s \n",
      "\u001b[?25h  Downloading torchvision-0.9.0-cp37-cp37m-manylinux1_x86_64.whl (17.3 MB)\n",
      "\u001b[K     |████████████████████████████████| 17.3 MB 131 kB/s \n",
      "\u001b[?25h  Downloading torchvision-0.8.2-cp37-cp37m-manylinux1_x86_64.whl (12.8 MB)\n",
      "\u001b[K     |████████████████████████████████| 12.8 MB 16.4 MB/s \n",
      "\u001b[?25h  Downloading torchvision-0.8.1-cp37-cp37m-manylinux1_x86_64.whl (12.7 MB)\n",
      "\u001b[K     |████████████████████████████████| 12.7 MB 14.4 MB/s \n",
      "\u001b[?25h  Downloading torchvision-0.8.0-cp37-cp37m-manylinux1_x86_64.whl (11.8 MB)\n",
      "\u001b[K     |████████████████████████████████| 11.8 MB 22.8 MB/s \n",
      "\u001b[?25h  Downloading torchvision-0.7.0-cp37-cp37m-manylinux1_x86_64.whl (5.9 MB)\n",
      "\u001b[K     |████████████████████████████████| 5.9 MB 20.1 MB/s \n",
      "\u001b[?25h  Downloading torchvision-0.6.1-cp37-cp37m-manylinux1_x86_64.whl (6.6 MB)\n",
      "\u001b[K     |████████████████████████████████| 6.6 MB 13.2 MB/s \n",
      "\u001b[?25h  Downloading torchvision-0.6.0-cp37-cp37m-manylinux1_x86_64.whl (6.6 MB)\n",
      "\u001b[K     |████████████████████████████████| 6.6 MB 23.6 MB/s \n",
      "\u001b[?25h  Downloading torchvision-0.5.0-cp37-cp37m-manylinux1_x86_64.whl (4.0 MB)\n",
      "\u001b[K     |████████████████████████████████| 4.0 MB 20.3 MB/s \n",
      "\u001b[?25h  Downloading torchvision-0.4.2-cp37-cp37m-manylinux1_x86_64.whl (10.2 MB)\n",
      "\u001b[K     |████████████████████████████████| 10.2 MB 39.2 MB/s \n",
      "\u001b[?25h  Downloading torchvision-0.4.1-cp37-cp37m-manylinux1_x86_64.whl (10.1 MB)\n",
      "\u001b[K     |████████████████████████████████| 10.1 MB 21.1 MB/s \n",
      "\u001b[?25h  Downloading torchvision-0.4.0-cp37-cp37m-manylinux1_x86_64.whl (8.8 MB)\n",
      "\u001b[K     |████████████████████████████████| 8.8 MB 13.4 MB/s \n",
      "\u001b[?25h  Downloading torchvision-0.3.0-cp37-cp37m-manylinux1_x86_64.whl (2.6 MB)\n",
      "\u001b[K     |████████████████████████████████| 2.6 MB 32.9 MB/s \n",
      "\u001b[?25hBuilding wheels for collected packages: mindsdb, lightwood, ludwig, gatspy\n",
      "  Building wheel for mindsdb (setup.py) ... \u001b[?25l\u001b[?25hdone\n",
      "  Created wheel for mindsdb: filename=MindsDB-1.3.2-py3-none-any.whl size=69130 sha256=12e69e20b1c9719cf4f192b80eb82c42a3c5b0ad936b3dbdc4d61a0881c2280e\n",
      "  Stored in directory: /root/.cache/pip/wheels/0d/02/2b/ba0818762d12ffd6308474b6f17b459bafbb70879159652b7d\n",
      "  Building wheel for lightwood (setup.py) ... \u001b[?25l\u001b[?25hdone\n",
      "  Created wheel for lightwood: filename=lightwood-0.7.7-py3-none-any.whl size=46932 sha256=8a66de41bb42311f25dbf7edc3eec5e46b350b5d71b072bc058ae328665941e6\n",
      "  Stored in directory: /root/.cache/pip/wheels/44/2d/6e/853b04249c545e339402c40a0bd3e67dc9d36f47e05e43eb2a\n",
      "  Building wheel for ludwig (setup.py) ... \u001b[?25l\u001b[?25hdone\n",
      "  Created wheel for ludwig: filename=ludwig-0.1.2-py3-none-any.whl size=185298 sha256=69438f477afb00a9eeeff9c162c83391f278e21bea850538eb6e89f60708ad64\n",
      "  Stored in directory: /root/.cache/pip/wheels/ee/0e/e3/8701d0c1d933c247e4c23bed3e39f7d8d49117b932a7ae6d46\n",
      "  Building wheel for gatspy (setup.py) ... \u001b[?25l\u001b[?25hdone\n",
      "  Created wheel for gatspy: filename=gatspy-0.3-py3-none-any.whl size=43819 sha256=705b8fe07ddd13ac72766813a29613bb60aebdcb39a7d689d98b02f6b98045bc\n",
      "  Stored in directory: /root/.cache/pip/wheels/1f/c1/4c/8de278f816259b4f67e2356c0bda260a593375661e400bf31f\n",
      "Successfully built mindsdb lightwood ludwig gatspy\n",
      "Installing collected packages: mock, torch, tensorflow-estimator, tensorboard, keras-applications, gatspy, torchvision, tensorflow, scikit-image, schema, cesium, ludwig, lightwood, imageio, ImageHash, colorlog, mindsdb\n",
      "  Attempting uninstall: torch\n",
      "    Found existing installation: torch 1.10.0+cu111\n",
      "    Uninstalling torch-1.10.0+cu111:\n",
      "      Successfully uninstalled torch-1.10.0+cu111\n",
      "  Attempting uninstall: tensorflow-estimator\n",
      "    Found existing installation: tensorflow-estimator 2.7.0\n",
      "    Uninstalling tensorflow-estimator-2.7.0:\n",
      "      Successfully uninstalled tensorflow-estimator-2.7.0\n",
      "  Attempting uninstall: tensorboard\n",
      "    Found existing installation: tensorboard 2.7.0\n",
      "    Uninstalling tensorboard-2.7.0:\n",
      "      Successfully uninstalled tensorboard-2.7.0\n",
      "  Attempting uninstall: torchvision\n",
      "    Found existing installation: torchvision 0.11.1+cu111\n",
      "    Uninstalling torchvision-0.11.1+cu111:\n",
      "      Successfully uninstalled torchvision-0.11.1+cu111\n",
      "  Attempting uninstall: tensorflow\n",
      "    Found existing installation: tensorflow 2.7.0\n",
      "    Uninstalling tensorflow-2.7.0:\n",
      "      Successfully uninstalled tensorflow-2.7.0\n",
      "  Attempting uninstall: scikit-image\n",
      "    Found existing installation: scikit-image 0.18.3\n",
      "    Uninstalling scikit-image-0.18.3:\n",
      "      Successfully uninstalled scikit-image-0.18.3\n",
      "  Attempting uninstall: imageio\n",
      "    Found existing installation: imageio 2.4.1\n",
      "    Uninstalling imageio-2.4.1:\n",
      "      Successfully uninstalled imageio-2.4.1\n",
      "\u001b[31mERROR: pip's dependency resolver does not currently take into account all the packages that are installed. This behaviour is the source of the following dependency conflicts.\n",
      "torchtext 0.11.0 requires torch==1.10.0, but you have torch 1.1.0 which is incompatible.\n",
      "torchaudio 0.10.0+cu111 requires torch==1.10.0, but you have torch 1.1.0 which is incompatible.\n",
      "kapre 0.3.6 requires tensorflow>=2.0.0, but you have tensorflow 1.13.1 which is incompatible.\n",
      "albumentations 0.1.12 requires imgaug<0.2.7,>=0.2.5, but you have imgaug 0.2.9 which is incompatible.\u001b[0m\n",
      "Successfully installed ImageHash-4.0 cesium-0.9.12 colorlog-6.6.0 gatspy-0.3 imageio-2.5.0 keras-applications-1.0.8 lightwood-0.7.7 ludwig-0.1.2 mindsdb-1.3.2 mock-4.0.3 schema-0.7.4 scikit-image-0.14.2 tensorboard-1.13.1 tensorflow-1.13.1 tensorflow-estimator-1.13.0 torch-1.1.0 torchvision-0.3.0\n"
     ]
    }
   ],
   "source": [
    "!pip install mindsdb==1.3.2"
   ]
  },
  {
   "cell_type": "code",
   "execution_count": 4,
   "metadata": {
    "id": "raLQTnmGKuxl"
   },
   "outputs": [],
   "source": [
    "import mindsdb\n",
    "predictor = mindsdb.Predictor(name='home_rental_predictor')"
   ]
  },
  {
   "cell_type": "markdown",
   "metadata": {},
   "source": [
    "So we have just done the initialization of the task, now we need to train our machine learning model, which surprisingly takes a one-line command:"
   ]
  },
  {
   "cell_type": "code",
   "execution_count": 7,
   "metadata": {
    "colab": {
     "base_uri": "https://localhost:8080/"
    },
    "id": "u7NMMhzsLvOM",
    "outputId": "fd51788e-9e8d-4c95-8887-c8fe3c909c07"
   },
   "outputs": [
    {
     "name": "stderr",
     "output_type": "stream",
     "text": [
      "\u001b[32mINFO:mindsdb-logger-805be7de-4d09-11ec-a0cb-0242ac1c0002:libs/phases/base_module.py:52 - [START] DataExtractor\n",
      "\u001b[0m\n",
      "\u001b[32mINFO:mindsdb-logger-805be7de-4d09-11ec-a0cb-0242ac1c0002:libs/phases/data_extractor/data_extractor.py:232 - We have split the input data into:\n",
      "\u001b[0m\n",
      "\u001b[32mINFO:mindsdb-logger-805be7de-4d09-11ec-a0cb-0242ac1c0002:libs/phases/base_module.py:57 - [END] DataExtractor, execution time: 0.633 seconds\n",
      "\u001b[0m\n",
      "\u001b[32mINFO:mindsdb-logger-805be7de-4d09-11ec-a0cb-0242ac1c0002:libs/phases/base_module.py:52 - [START] StatsGenerator\n",
      "\u001b[0m\n",
      "\u001b[32mINFO:mindsdb-logger-805be7de-4d09-11ec-a0cb-0242ac1c0002:libs/phases/stats_generator/stats_generator.py:484 - population_size=5037,  sample_size=5037  100.00%\n",
      "\u001b[0m\n",
      "\u001b[33mWARNING:mindsdb-logger-805be7de-4d09-11ec-a0cb-0242ac1c0002:libs/phases/stats_generator/stats_generator.py:384 - The data in the column number_of_rooms seems to have too contain too much noise/randomness based on the value variability. That is too say, the data is too unevenly distributed and has too many outliers. Please see the detailed logs bellow for more info.\n",
      "\u001b[0m\n",
      "\u001b[32mINFO:mindsdb-logger-805be7de-4d09-11ec-a0cb-0242ac1c0002:libs/phases/stats_generator/stats_generator.py:452 - Data distribution for column \"number_of_rooms\"\n",
      "\u001b[0m\n",
      "\u001b[32mINFO:mindsdb-logger-805be7de-4d09-11ec-a0cb-0242ac1c0002:libs/data_types/mindsdb_logger.py:76 - ----------\n",
      "\u001b[0m\n",
      "\u001b[32mINFO:mindsdb-logger-805be7de-4d09-11ec-a0cb-0242ac1c0002:libs/data_types/mindsdb_logger.py:119 -  Category: 5037\n",
      "\u001b[0m\n",
      "\u001b[32mINFO:mindsdb-logger-805be7de-4d09-11ec-a0cb-0242ac1c0002:libs/data_types/mindsdb_logger.py:123 - ----------\n",
      "\u001b[0m\n",
      "\u001b[33mWARNING:mindsdb-logger-805be7de-4d09-11ec-a0cb-0242ac1c0002:libs/phases/stats_generator/stats_generator.py:384 - The data in the column number_of_bathrooms seems to have too contain too much noise/randomness based on the value variability. That is too say, the data is too unevenly distributed and has too many outliers. Please see the detailed logs bellow for more info.\n",
      "\u001b[0m\n",
      "\u001b[33mWARNING:mindsdb-logger-805be7de-4d09-11ec-a0cb-0242ac1c0002:libs/phases/stats_generator/stats_generator.py:429 - Column number_of_bathrooms is very biased towards the value 1, please make sure that the data in this column is correct !\n",
      "\u001b[0m\n",
      "\u001b[32mINFO:mindsdb-logger-805be7de-4d09-11ec-a0cb-0242ac1c0002:libs/phases/stats_generator/stats_generator.py:452 - Data distribution for column \"number_of_bathrooms\"\n",
      "\u001b[0m\n",
      "\u001b[32mINFO:mindsdb-logger-805be7de-4d09-11ec-a0cb-0242ac1c0002:libs/data_types/mindsdb_logger.py:76 - ----------\n",
      "\u001b[0m\n",
      "\u001b[32mINFO:mindsdb-logger-805be7de-4d09-11ec-a0cb-0242ac1c0002:libs/data_types/mindsdb_logger.py:119 -  Binary Category: 5037\n",
      "\u001b[0m\n",
      "\u001b[32mINFO:mindsdb-logger-805be7de-4d09-11ec-a0cb-0242ac1c0002:libs/data_types/mindsdb_logger.py:123 - ----------\n",
      "\u001b[0m\n",
      "\u001b[33mWARNING:mindsdb-logger-805be7de-4d09-11ec-a0cb-0242ac1c0002:libs/phases/stats_generator/stats_generator.py:429 - Column sqft is very biased towards the value 1044.97, please make sure that the data in this column is correct !\n",
      "\u001b[0m\n",
      "\u001b[32mINFO:mindsdb-logger-805be7de-4d09-11ec-a0cb-0242ac1c0002:libs/phases/stats_generator/stats_generator.py:452 - Data distribution for column \"sqft\"\n",
      "\u001b[0m\n",
      "\u001b[32mINFO:mindsdb-logger-805be7de-4d09-11ec-a0cb-0242ac1c0002:libs/data_types/mindsdb_logger.py:76 - ----------\n",
      "\u001b[0m\n",
      "\u001b[32mINFO:mindsdb-logger-805be7de-4d09-11ec-a0cb-0242ac1c0002:libs/data_types/mindsdb_logger.py:119 -  Int: 5037\n",
      "\u001b[0m\n",
      "\u001b[32mINFO:mindsdb-logger-805be7de-4d09-11ec-a0cb-0242ac1c0002:libs/data_types/mindsdb_logger.py:123 - ----------\n",
      "\u001b[0m\n",
      "\u001b[33mWARNING:mindsdb-logger-805be7de-4d09-11ec-a0cb-0242ac1c0002:libs/phases/stats_generator/stats_generator.py:384 - The data in the column location seems to have too contain too much noise/randomness based on the value variability. That is too say, the data is too unevenly distributed and has too many outliers. Please see the detailed logs bellow for more info.\n",
      "\u001b[0m\n",
      "\u001b[33mWARNING:mindsdb-logger-805be7de-4d09-11ec-a0cb-0242ac1c0002:libs/phases/stats_generator/stats_generator.py:429 - Column location is very biased towards the value good, please make sure that the data in this column is correct !\n",
      "\u001b[0m\n",
      "\u001b[32mINFO:mindsdb-logger-805be7de-4d09-11ec-a0cb-0242ac1c0002:libs/phases/stats_generator/stats_generator.py:452 - Data distribution for column \"location\"\n",
      "\u001b[0m\n",
      "\u001b[32mINFO:mindsdb-logger-805be7de-4d09-11ec-a0cb-0242ac1c0002:libs/data_types/mindsdb_logger.py:76 - ----------\n",
      "\u001b[0m\n",
      "\u001b[32mINFO:mindsdb-logger-805be7de-4d09-11ec-a0cb-0242ac1c0002:libs/data_types/mindsdb_logger.py:119 -  Category: 5037\n",
      "\u001b[0m\n",
      "\u001b[32mINFO:mindsdb-logger-805be7de-4d09-11ec-a0cb-0242ac1c0002:libs/data_types/mindsdb_logger.py:123 - ----------\n",
      "\u001b[0m\n",
      "\u001b[33mWARNING:mindsdb-logger-805be7de-4d09-11ec-a0cb-0242ac1c0002:libs/phases/stats_generator/stats_generator.py:384 - The data in the column days_on_market seems to have too contain too much noise/randomness based on the value variability. That is too say, the data is too unevenly distributed and has too many outliers. Please see the detailed logs bellow for more info.\n",
      "\u001b[0m\n",
      "\u001b[33mWARNING:mindsdb-logger-805be7de-4d09-11ec-a0cb-0242ac1c0002:libs/phases/stats_generator/stats_generator.py:429 - Column days_on_market is very biased towards the value 3, please make sure that the data in this column is correct !\n",
      "\u001b[0m\n",
      "\u001b[32mINFO:mindsdb-logger-805be7de-4d09-11ec-a0cb-0242ac1c0002:libs/phases/stats_generator/stats_generator.py:452 - Data distribution for column \"days_on_market\"\n",
      "\u001b[0m\n",
      "\u001b[32mINFO:mindsdb-logger-805be7de-4d09-11ec-a0cb-0242ac1c0002:libs/data_types/mindsdb_logger.py:76 - ----------\n",
      "\u001b[0m\n",
      "\u001b[32mINFO:mindsdb-logger-805be7de-4d09-11ec-a0cb-0242ac1c0002:libs/data_types/mindsdb_logger.py:119 -  Category: 5037\n",
      "\u001b[0m\n",
      "\u001b[32mINFO:mindsdb-logger-805be7de-4d09-11ec-a0cb-0242ac1c0002:libs/data_types/mindsdb_logger.py:123 - ----------\n",
      "\u001b[0m\n",
      "\u001b[33mWARNING:mindsdb-logger-805be7de-4d09-11ec-a0cb-0242ac1c0002:libs/phases/stats_generator/stats_generator.py:384 - The data in the column neighborhood seems to have too contain too much noise/randomness based on the value variability. That is too say, the data is too unevenly distributed and has too many outliers. Please see the detailed logs bellow for more info.\n",
      "\u001b[0m\n",
      "\u001b[33mWARNING:mindsdb-logger-805be7de-4d09-11ec-a0cb-0242ac1c0002:libs/phases/stats_generator/stats_generator.py:429 - Column neighborhood is very biased towards the value west_welmwood, please make sure that the data in this column is correct !\n",
      "\u001b[0m\n",
      "\u001b[32mINFO:mindsdb-logger-805be7de-4d09-11ec-a0cb-0242ac1c0002:libs/phases/stats_generator/stats_generator.py:452 - Data distribution for column \"neighborhood\"\n",
      "\u001b[0m\n",
      "\u001b[32mINFO:mindsdb-logger-805be7de-4d09-11ec-a0cb-0242ac1c0002:libs/data_types/mindsdb_logger.py:76 - ----------\n",
      "\u001b[0m\n",
      "\u001b[32mINFO:mindsdb-logger-805be7de-4d09-11ec-a0cb-0242ac1c0002:libs/data_types/mindsdb_logger.py:119 -  Category: 5037\n",
      "\u001b[0m\n",
      "\u001b[32mINFO:mindsdb-logger-805be7de-4d09-11ec-a0cb-0242ac1c0002:libs/data_types/mindsdb_logger.py:123 - ----------\n",
      "\u001b[0m\n",
      "\u001b[33mWARNING:mindsdb-logger-805be7de-4d09-11ec-a0cb-0242ac1c0002:libs/phases/stats_generator/stats_generator.py:429 - Column rental_price is very biased towards the value 1793.52036, please make sure that the data in this column is correct !\n",
      "\u001b[0m\n",
      "\u001b[32mINFO:mindsdb-logger-805be7de-4d09-11ec-a0cb-0242ac1c0002:libs/phases/stats_generator/stats_generator.py:452 - Data distribution for column \"rental_price\"\n",
      "\u001b[0m\n",
      "\u001b[32mINFO:mindsdb-logger-805be7de-4d09-11ec-a0cb-0242ac1c0002:libs/data_types/mindsdb_logger.py:76 - ----------\n",
      "\u001b[0m\n",
      "\u001b[32mINFO:mindsdb-logger-805be7de-4d09-11ec-a0cb-0242ac1c0002:libs/data_types/mindsdb_logger.py:119 -    Int: 3528\n",
      "\u001b[0m\n",
      "\u001b[32mINFO:mindsdb-logger-805be7de-4d09-11ec-a0cb-0242ac1c0002:libs/data_types/mindsdb_logger.py:119 -  Float: 1509\n",
      "\u001b[0m\n",
      "\u001b[32mINFO:mindsdb-logger-805be7de-4d09-11ec-a0cb-0242ac1c0002:libs/data_types/mindsdb_logger.py:123 - ----------\n",
      "\u001b[0m\n",
      "\u001b[32mINFO:mindsdb-logger-805be7de-4d09-11ec-a0cb-0242ac1c0002:libs/phases/base_module.py:57 - [END] StatsGenerator, execution time: 2.070 seconds\n",
      "\u001b[0m\n",
      "\u001b[32mINFO:mindsdb-logger-805be7de-4d09-11ec-a0cb-0242ac1c0002:libs/phases/base_module.py:52 - [START] DataTransformer\n",
      "\u001b[0m\n",
      "\u001b[32mINFO:mindsdb-logger-805be7de-4d09-11ec-a0cb-0242ac1c0002:libs/phases/base_module.py:57 - [END] DataTransformer, execution time: 0.094 seconds\n",
      "\u001b[0m\n",
      "\u001b[32mINFO:mindsdb-logger-805be7de-4d09-11ec-a0cb-0242ac1c0002:libs/phases/base_module.py:52 - [START] ModelInterface\n",
      "\u001b[0m\n"
     ]
    },
    {
     "name": "stdout",
     "output_type": "stream",
     "text": [
      "94\n"
     ]
    },
    {
     "name": "stderr",
     "output_type": "stream",
     "text": [
      "\u001b[32mINFO:mindsdb-logger-805be7de-4d09-11ec-a0cb-0242ac1c0002:libs/backends/lightwood.py:146 - Training accuracy of: {'rental_price': 0.31506936430845545}\n",
      "\u001b[0m\n",
      "\u001b[32mINFO:mindsdb-logger-805be7de-4d09-11ec-a0cb-0242ac1c0002:libs/phases/base_module.py:57 - [END] ModelInterface, execution time: 32.330 seconds\n",
      "\u001b[0m\n",
      "\u001b[32mINFO:mindsdb-logger-805be7de-4d09-11ec-a0cb-0242ac1c0002:libs/phases/base_module.py:52 - [START] ModelAnalyzer\n",
      "\u001b[0m\n"
     ]
    },
    {
     "name": "stdout",
     "output_type": "stream",
     "text": [
      "Can't disable output on Jupyter notebook\n",
      "Can't disable output on Jupyter notebook\n"
     ]
    },
    {
     "name": "stderr",
     "output_type": "stream",
     "text": [
      "The data in the column number_of_rooms seems to have too contain too much noise/randomness based on the value variability. That is too say, the data is too unevenly distributed and has too many outliers. Please see the detailed logs bellow for more info.\n"
     ]
    },
    {
     "name": "stdout",
     "output_type": "stream",
     "text": [
      "Can't disable output on Jupyter notebook\n",
      "Can't disable output on Jupyter notebook\n",
      "Can't disable output on Jupyter notebook\n",
      "Can't disable output on Jupyter notebook\n",
      "Can't disable output on Jupyter notebook\n",
      "Can't disable output on Jupyter notebook\n"
     ]
    },
    {
     "name": "stderr",
     "output_type": "stream",
     "text": [
      "/usr/local/lib/python3.7/dist-packages/sklearn/neighbors/_lof.py:288: UserWarning: n_neighbors (20) is greater than the total number of samples (13). n_neighbors will be set to (n_samples - 1) for estimation.\n",
      "  % (self.n_neighbors, n_samples)\n",
      "/usr/local/lib/python3.7/dist-packages/scipy/stats/stats.py:2419: RuntimeWarning: invalid value encountered in true_divide\n",
      "  return (a - mns) / sstd\n"
     ]
    },
    {
     "name": "stdout",
     "output_type": "stream",
     "text": [
      "Can't disable output on Jupyter notebook\n",
      "Can't disable output on Jupyter notebook\n",
      "Can't disable output on Jupyter notebook\n"
     ]
    },
    {
     "name": "stderr",
     "output_type": "stream",
     "text": [
      "/usr/local/lib/python3.7/dist-packages/sklearn/neighbors/_lof.py:288: UserWarning: n_neighbors (20) is greater than the total number of samples (15). n_neighbors will be set to (n_samples - 1) for estimation.\n",
      "  % (self.n_neighbors, n_samples)\n",
      "/usr/local/lib/python3.7/dist-packages/scipy/stats/stats.py:2419: RuntimeWarning: invalid value encountered in true_divide\n",
      "  return (a - mns) / sstd\n"
     ]
    },
    {
     "name": "stdout",
     "output_type": "stream",
     "text": [
      "Can't disable output on Jupyter notebook\n",
      "Can't disable output on Jupyter notebook\n",
      "Can't disable output on Jupyter notebook\n"
     ]
    },
    {
     "name": "stderr",
     "output_type": "stream",
     "text": [
      "/usr/local/lib/python3.7/dist-packages/sklearn/neighbors/_lof.py:288: UserWarning: n_neighbors (20) is greater than the total number of samples (19). n_neighbors will be set to (n_samples - 1) for estimation.\n",
      "  % (self.n_neighbors, n_samples)\n",
      "/usr/local/lib/python3.7/dist-packages/scipy/stats/stats.py:2419: RuntimeWarning: invalid value encountered in true_divide\n",
      "  return (a - mns) / sstd\n",
      "The data in the column number_of_rooms seems to have too contain too much noise/randomness based on the value variability. That is too say, the data is too unevenly distributed and has too many outliers. Please see the detailed logs bellow for more info.\n"
     ]
    },
    {
     "name": "stdout",
     "output_type": "stream",
     "text": [
      "Can't disable output on Jupyter notebook\n",
      "Can't disable output on Jupyter notebook\n",
      "Can't disable output on Jupyter notebook\n"
     ]
    },
    {
     "name": "stderr",
     "output_type": "stream",
     "text": [
      "Column \"{}\" is considered of low quality, the scores that influenced this decission will be listed bellow\n",
      "0.0% of the values in column number_of_rooms seem to be repeated, this might indicate your data is of poor quality.\n",
      "The data in the column number_of_rooms is likely somewhat redundant, any insight it can give us can already by deduced from your other columns. Please see the detailed logs bellow for more info\n",
      "Column number_of_rooms is very biased towards the value 0.99, please make sure that the data in this column is correct !\n",
      "Column number_of_rooms and number_of_bathrooms are 65.38461538461539% the same, please make sure these represent two distinct features of your data !\n"
     ]
    },
    {
     "name": "stdout",
     "output_type": "stream",
     "text": [
      "Can't disable output on Jupyter notebook\n",
      "Can't disable output on Jupyter notebook\n",
      "Can't disable output on Jupyter notebook\n"
     ]
    },
    {
     "name": "stderr",
     "output_type": "stream",
     "text": [
      "Column \"{}\" is considered of low quality, the scores that influenced this decission will be listed bellow\n",
      "0.0% of the values in column number_of_rooms seem to be repeated, this might indicate your data is of poor quality.\n",
      "The data in the column number_of_rooms is likely somewhat redundant, any insight it can give us can already by deduced from your other columns. Please see the detailed logs bellow for more info\n",
      "Column number_of_rooms is very biased towards the value 0.99, please make sure that the data in this column is correct !\n",
      "Column number_of_rooms and number_of_bathrooms are 80.55555555555556% the same, please make sure these represent two distinct features of your data !\n"
     ]
    },
    {
     "name": "stdout",
     "output_type": "stream",
     "text": [
      "Can't disable output on Jupyter notebook\n",
      "Can't disable output on Jupyter notebook\n",
      "Can't disable output on Jupyter notebook\n",
      "Can't disable output on Jupyter notebook\n",
      "Can't disable output on Jupyter notebook\n",
      "Can't disable output on Jupyter notebook\n"
     ]
    },
    {
     "name": "stderr",
     "output_type": "stream",
     "text": [
      "/usr/local/lib/python3.7/dist-packages/sklearn/neighbors/_lof.py:288: UserWarning: n_neighbors (20) is greater than the total number of samples (14). n_neighbors will be set to (n_samples - 1) for estimation.\n",
      "  % (self.n_neighbors, n_samples)\n",
      "/usr/local/lib/python3.7/dist-packages/scipy/stats/stats.py:2419: RuntimeWarning: invalid value encountered in true_divide\n",
      "  return (a - mns) / sstd\n"
     ]
    },
    {
     "name": "stdout",
     "output_type": "stream",
     "text": [
      "Can't disable output on Jupyter notebook\n",
      "Can't disable output on Jupyter notebook\n",
      "Can't disable output on Jupyter notebook\n"
     ]
    },
    {
     "name": "stderr",
     "output_type": "stream",
     "text": [
      "/usr/local/lib/python3.7/dist-packages/sklearn/neighbors/_lof.py:288: UserWarning: n_neighbors (20) is greater than the total number of samples (13). n_neighbors will be set to (n_samples - 1) for estimation.\n",
      "  % (self.n_neighbors, n_samples)\n",
      "/usr/local/lib/python3.7/dist-packages/scipy/stats/stats.py:2419: RuntimeWarning: invalid value encountered in true_divide\n",
      "  return (a - mns) / sstd\n",
      "The data in the column number_of_rooms is likely somewhat redundant, any insight it can give us can already by deduced from your other columns. Please see the detailed logs bellow for more info\n",
      "Column number_of_rooms is very biased towards the value 1.02, please make sure that the data in this column is correct !\n",
      "Column number_of_rooms and number_of_bathrooms are 61.904761904761905% the same, please make sure these represent two distinct features of your data !\n"
     ]
    },
    {
     "name": "stdout",
     "output_type": "stream",
     "text": [
      "Can't disable output on Jupyter notebook\n",
      "Can't disable output on Jupyter notebook\n",
      "Can't disable output on Jupyter notebook\n",
      "Can't disable output on Jupyter notebook\n",
      "Can't disable output on Jupyter notebook\n",
      "Can't disable output on Jupyter notebook\n"
     ]
    },
    {
     "name": "stderr",
     "output_type": "stream",
     "text": [
      "/usr/local/lib/python3.7/dist-packages/scipy/stats/stats.py:2419: RuntimeWarning: invalid value encountered in true_divide\n",
      "  return (a - mns) / sstd\n"
     ]
    },
    {
     "name": "stdout",
     "output_type": "stream",
     "text": [
      "Can't disable output on Jupyter notebook\n",
      "Can't disable output on Jupyter notebook\n",
      "Can't disable output on Jupyter notebook\n"
     ]
    },
    {
     "name": "stderr",
     "output_type": "stream",
     "text": [
      "/usr/local/lib/python3.7/dist-packages/sklearn/neighbors/_lof.py:288: UserWarning: n_neighbors (20) is greater than the total number of samples (16). n_neighbors will be set to (n_samples - 1) for estimation.\n",
      "  % (self.n_neighbors, n_samples)\n",
      "/usr/local/lib/python3.7/dist-packages/scipy/stats/stats.py:2419: RuntimeWarning: invalid value encountered in true_divide\n",
      "  return (a - mns) / sstd\n",
      "Column \"{}\" is considered of low quality, the scores that influenced this decission will be listed bellow\n",
      "0.0% of the values in column number_of_rooms seem to be repeated, this might indicate your data is of poor quality.\n",
      "The data in the column number_of_rooms is likely somewhat redundant, any insight it can give us can already by deduced from your other columns. Please see the detailed logs bellow for more info\n",
      "Column number_of_rooms is very biased towards the value 0.99, please make sure that the data in this column is correct !\n",
      "Column number_of_rooms and number_of_bathrooms are 80.95238095238095% the same, please make sure these represent two distinct features of your data !\n"
     ]
    },
    {
     "name": "stdout",
     "output_type": "stream",
     "text": [
      "Can't disable output on Jupyter notebook\n",
      "Can't disable output on Jupyter notebook\n",
      "Can't disable output on Jupyter notebook\n"
     ]
    },
    {
     "name": "stderr",
     "output_type": "stream",
     "text": [
      "The data in the column number_of_rooms seems to have too contain too much noise/randomness based on the value variability. That is too say, the data is too unevenly distributed and has too many outliers. Please see the detailed logs bellow for more info.\n"
     ]
    },
    {
     "name": "stdout",
     "output_type": "stream",
     "text": [
      "Can't disable output on Jupyter notebook\n",
      "Can't disable output on Jupyter notebook\n",
      "Can't disable output on Jupyter notebook\n"
     ]
    },
    {
     "name": "stderr",
     "output_type": "stream",
     "text": [
      "The data in the column number_of_rooms seems to have too contain too much noise/randomness based on the value variability. That is too say, the data is too unevenly distributed and has too many outliers. Please see the detailed logs bellow for more info.\n"
     ]
    },
    {
     "name": "stdout",
     "output_type": "stream",
     "text": [
      "Can't disable output on Jupyter notebook\n",
      "Can't disable output on Jupyter notebook\n",
      "Can't disable output on Jupyter notebook\n"
     ]
    },
    {
     "name": "stderr",
     "output_type": "stream",
     "text": [
      "The data in the column number_of_rooms seems to have too contain too much noise/randomness based on the value variability. That is too say, the data is too unevenly distributed and has too many outliers. Please see the detailed logs bellow for more info.\n"
     ]
    },
    {
     "name": "stdout",
     "output_type": "stream",
     "text": [
      "Can't disable output on Jupyter notebook\n",
      "Can't disable output on Jupyter notebook\n",
      "Can't disable output on Jupyter notebook\n"
     ]
    },
    {
     "name": "stderr",
     "output_type": "stream",
     "text": [
      "Column number_of_rooms is very biased towards the value 2.01, please make sure that the data in this column is correct !\n"
     ]
    },
    {
     "name": "stdout",
     "output_type": "stream",
     "text": [
      "Can't disable output on Jupyter notebook\n",
      "Can't disable output on Jupyter notebook\n",
      "Can't disable output on Jupyter notebook\n"
     ]
    },
    {
     "name": "stderr",
     "output_type": "stream",
     "text": [
      "/usr/local/lib/python3.7/dist-packages/sklearn/neighbors/_lof.py:288: UserWarning: n_neighbors (20) is greater than the total number of samples (10). n_neighbors will be set to (n_samples - 1) for estimation.\n",
      "  % (self.n_neighbors, n_samples)\n",
      "/usr/local/lib/python3.7/dist-packages/scipy/stats/stats.py:2419: RuntimeWarning: invalid value encountered in true_divide\n",
      "  return (a - mns) / sstd\n"
     ]
    },
    {
     "name": "stdout",
     "output_type": "stream",
     "text": [
      "Can't disable output on Jupyter notebook\n",
      "Can't disable output on Jupyter notebook\n",
      "Can't disable output on Jupyter notebook\n",
      "Can't disable output on Jupyter notebook\n",
      "Can't disable output on Jupyter notebook\n",
      "Can't disable output on Jupyter notebook\n",
      "Can't disable output on Jupyter notebook\n",
      "Can't disable output on Jupyter notebook\n",
      "Can't disable output on Jupyter notebook\n"
     ]
    },
    {
     "name": "stderr",
     "output_type": "stream",
     "text": [
      "/usr/local/lib/python3.7/dist-packages/sklearn/neighbors/_lof.py:288: UserWarning: n_neighbors (20) is greater than the total number of samples (11). n_neighbors will be set to (n_samples - 1) for estimation.\n",
      "  % (self.n_neighbors, n_samples)\n"
     ]
    },
    {
     "name": "stdout",
     "output_type": "stream",
     "text": [
      "Can't disable output on Jupyter notebook\n",
      "Can't disable output on Jupyter notebook\n",
      "Can't disable output on Jupyter notebook\n"
     ]
    },
    {
     "name": "stderr",
     "output_type": "stream",
     "text": [
      "/usr/local/lib/python3.7/dist-packages/scipy/stats/stats.py:2419: RuntimeWarning: invalid value encountered in true_divide\n",
      "  return (a - mns) / sstd\n"
     ]
    },
    {
     "name": "stdout",
     "output_type": "stream",
     "text": [
      "Can't disable output on Jupyter notebook\n",
      "Can't disable output on Jupyter notebook\n",
      "Can't disable output on Jupyter notebook\n"
     ]
    },
    {
     "name": "stderr",
     "output_type": "stream",
     "text": [
      "/usr/local/lib/python3.7/dist-packages/sklearn/neighbors/_lof.py:288: UserWarning: n_neighbors (20) is greater than the total number of samples (6). n_neighbors will be set to (n_samples - 1) for estimation.\n",
      "  % (self.n_neighbors, n_samples)\n",
      "/usr/local/lib/python3.7/dist-packages/scipy/stats/stats.py:2419: RuntimeWarning: invalid value encountered in true_divide\n",
      "  return (a - mns) / sstd\n"
     ]
    },
    {
     "name": "stdout",
     "output_type": "stream",
     "text": [
      "Can't disable output on Jupyter notebook\n",
      "Can't disable output on Jupyter notebook\n",
      "Can't disable output on Jupyter notebook\n"
     ]
    },
    {
     "name": "stderr",
     "output_type": "stream",
     "text": [
      "/usr/local/lib/python3.7/dist-packages/sklearn/neighbors/_lof.py:288: UserWarning: n_neighbors (20) is greater than the total number of samples (15). n_neighbors will be set to (n_samples - 1) for estimation.\n",
      "  % (self.n_neighbors, n_samples)\n",
      "/usr/local/lib/python3.7/dist-packages/scipy/stats/stats.py:2419: RuntimeWarning: invalid value encountered in true_divide\n",
      "  return (a - mns) / sstd\n"
     ]
    },
    {
     "name": "stdout",
     "output_type": "stream",
     "text": [
      "Can't disable output on Jupyter notebook\n",
      "Can't disable output on Jupyter notebook\n",
      "Can't disable output on Jupyter notebook\n"
     ]
    },
    {
     "name": "stderr",
     "output_type": "stream",
     "text": [
      "/usr/local/lib/python3.7/dist-packages/sklearn/neighbors/_lof.py:288: UserWarning: n_neighbors (20) is greater than the total number of samples (5). n_neighbors will be set to (n_samples - 1) for estimation.\n",
      "  % (self.n_neighbors, n_samples)\n",
      "/usr/local/lib/python3.7/dist-packages/scipy/stats/stats.py:2419: RuntimeWarning: invalid value encountered in true_divide\n",
      "  return (a - mns) / sstd\n"
     ]
    },
    {
     "name": "stdout",
     "output_type": "stream",
     "text": [
      "Can't disable output on Jupyter notebook\n",
      "Can't disable output on Jupyter notebook\n",
      "Can't disable output on Jupyter notebook\n"
     ]
    },
    {
     "name": "stderr",
     "output_type": "stream",
     "text": [
      "/usr/local/lib/python3.7/dist-packages/sklearn/neighbors/_lof.py:288: UserWarning: n_neighbors (20) is greater than the total number of samples (8). n_neighbors will be set to (n_samples - 1) for estimation.\n",
      "  % (self.n_neighbors, n_samples)\n",
      "/usr/local/lib/python3.7/dist-packages/scipy/stats/stats.py:2419: RuntimeWarning: invalid value encountered in true_divide\n",
      "  return (a - mns) / sstd\n"
     ]
    },
    {
     "name": "stdout",
     "output_type": "stream",
     "text": [
      "Can't disable output on Jupyter notebook\n",
      "Can't disable output on Jupyter notebook\n",
      "Can't disable output on Jupyter notebook\n",
      "Can't disable output on Jupyter notebook\n",
      "Can't disable output on Jupyter notebook\n",
      "Can't disable output on Jupyter notebook\n"
     ]
    },
    {
     "name": "stderr",
     "output_type": "stream",
     "text": [
      "/usr/local/lib/python3.7/dist-packages/sklearn/neighbors/_lof.py:288: UserWarning: n_neighbors (20) is greater than the total number of samples (3). n_neighbors will be set to (n_samples - 1) for estimation.\n",
      "  % (self.n_neighbors, n_samples)\n",
      "/usr/local/lib/python3.7/dist-packages/scipy/stats/stats.py:2419: RuntimeWarning: invalid value encountered in true_divide\n",
      "  return (a - mns) / sstd\n"
     ]
    },
    {
     "name": "stdout",
     "output_type": "stream",
     "text": [
      "Can't disable output on Jupyter notebook\n",
      "Can't disable output on Jupyter notebook\n",
      "Can't disable output on Jupyter notebook\n",
      "Can't disable output on Jupyter notebook\n",
      "Can't disable output on Jupyter notebook\n",
      "Can't disable output on Jupyter notebook\n",
      "Can't disable output on Jupyter notebook\n",
      "Can't disable output on Jupyter notebook\n",
      "Can't disable output on Jupyter notebook\n",
      "Can't disable output on Jupyter notebook\n",
      "Can't disable output on Jupyter notebook\n",
      "Can't disable output on Jupyter notebook\n",
      "Can't disable output on Jupyter notebook\n",
      "Can't disable output on Jupyter notebook\n",
      "Can't disable output on Jupyter notebook\n",
      "Can't disable output on Jupyter notebook\n",
      "Can't disable output on Jupyter notebook\n",
      "Can't disable output on Jupyter notebook\n",
      "Can't disable output on Jupyter notebook\n",
      "Can't disable output on Jupyter notebook\n",
      "Can't disable output on Jupyter notebook\n",
      "Can't disable output on Jupyter notebook\n",
      "Can't disable output on Jupyter notebook\n",
      "Can't disable output on Jupyter notebook\n",
      "Can't disable output on Jupyter notebook\n"
     ]
    },
    {
     "name": "stderr",
     "output_type": "stream",
     "text": [
      "\u001b[32mINFO:mindsdb-logger-805be7de-4d09-11ec-a0cb-0242ac1c0002:libs/phases/base_module.py:57 - [END] ModelAnalyzer, execution time: 5.109 seconds\n",
      "\u001b[0m\n"
     ]
    }
   ],
   "source": [
    "predictor.learn(from_data='/content/home_rental.csv', to_predict='rental_price')"
   ]
  },
  {
   "cell_type": "markdown",
   "metadata": {},
   "source": [
    "That’s it, we just created the model. The best part of the MindsDB library is that it automatically performs all the preprocessing own its own. Now we need to use the trained model to make predictions, let’s see how to do that:"
   ]
  },
  {
   "cell_type": "code",
   "execution_count": 9,
   "metadata": {
    "colab": {
     "base_uri": "https://localhost:8080/"
    },
    "id": "PCphTBctSyZK",
    "outputId": "d974d215-a735-48c5-9a57-a314eeeae234"
   },
   "outputs": [
    {
     "name": "stderr",
     "output_type": "stream",
     "text": [
      "\u001b[32mINFO:mindsdb-logger-core-logger:libs/phases/base_module.py:52 - [START] DataExtractor\n",
      "\u001b[0m\n",
      "\u001b[32mINFO:mindsdb-logger-core-logger:libs/phases/base_module.py:57 - [END] DataExtractor, execution time: 0.049 seconds\n",
      "\u001b[0m\n",
      "\u001b[32mINFO:mindsdb-logger-core-logger:libs/phases/base_module.py:52 - [START] DataTransformer\n",
      "\u001b[0m\n",
      "\u001b[32mINFO:mindsdb-logger-core-logger:libs/phases/base_module.py:57 - [END] DataTransformer, execution time: 0.032 seconds\n",
      "\u001b[0m\n",
      "\u001b[32mINFO:mindsdb-logger-core-logger:libs/phases/base_module.py:52 - [START] ModelInterface\n",
      "\u001b[0m\n",
      "\u001b[32mINFO:mindsdb-logger-core-logger:libs/phases/base_module.py:57 - [END] ModelInterface, execution time: 0.035 seconds\n",
      "\u001b[0m\n"
     ]
    }
   ],
   "source": [
    "result = predictor.predict(when={'number_of_rooms': 2,'number_of_bathrooms':1, 'sqft': 1190})"
   ]
  },
  {
   "cell_type": "code",
   "execution_count": 10,
   "metadata": {
    "colab": {
     "base_uri": "https://localhost:8080/"
    },
    "id": "ZppTeGKWTcTV",
    "outputId": "b9e3de2f-e519-40cb-8219-08d78a83c345"
   },
   "outputs": [
    {
     "name": "stdout",
     "output_type": "stream",
     "text": [
      "The predicted price is $495 with 0.020366417488169086 confidence\n"
     ]
    }
   ],
   "source": [
    "# We can now print the results\n",
    "print('The predicted price is ${price} with {conf} confidence'.format(price=result[0]['rental_price'], conf=result[0]['rental_price_confidence']))\n"
   ]
  },
  {
   "cell_type": "markdown",
   "metadata": {
    "id": "xRFcEykNUApk"
   },
   "source": [
    "So this is how we can create a Machine Learning model in just 5 lines of code by using the MindsDB library. The best thing about MindsDB is that it is not only for the numerical data, it can also be used for images."
   ]
  },
  {
   "cell_type": "code",
   "execution_count": null,
   "metadata": {},
   "outputs": [],
   "source": []
  }
 ],
 "metadata": {
  "accelerator": "GPU",
  "colab": {
   "collapsed_sections": [],
   "name": "Welcome To Colaboratory",
   "provenance": []
  },
  "kernelspec": {
   "display_name": "Python 3",
   "language": "python",
   "name": "python3"
  },
  "language_info": {
   "codemirror_mode": {
    "name": "ipython",
    "version": 3
   },
   "file_extension": ".py",
   "mimetype": "text/x-python",
   "name": "python",
   "nbconvert_exporter": "python",
   "pygments_lexer": "ipython3",
   "version": "3.7.6"
  }
 },
 "nbformat": 4,
 "nbformat_minor": 1
}
